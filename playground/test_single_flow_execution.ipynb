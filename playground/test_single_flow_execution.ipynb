{
  "cells": [
    {
      "cell_type": "markdown",
      "metadata": {},
      "source": [
        "# Test Single Flow Execution\n",
        "\n",
        "Test that the scrape flow now executes only once and creates pipeline states without duplicates.\n",
        "\n",
        "**Goal:** Verify that the duplicate flow execution issue has been fixed.\n"
      ]
    },
    {
      "cell_type": "code",
      "execution_count": null,
      "metadata": {
        "vscode": {
          "languageId": "plaintext"
        }
      },
      "outputs": [],
      "source": [
        "## Setup and Imports\n"
      ]
    },
    {
      "cell_type": "code",
      "execution_count": null,
      "metadata": {
        "vscode": {
          "languageId": "plaintext"
        }
      },
      "outputs": [],
      "source": [
        "import sys\n",
        "from pathlib import Path\n",
        "import json\n",
        "\n",
        "# Add project root to path\n",
        "project_root = Path.cwd()\n",
        "sys.path.insert(0, str(project_root))\n",
        "\n",
        "from flows.scrape_flow import scrape_flow\n",
        "from pipeline.pipeline_state import PipelineStateManager\n",
        "\n",
        "print(\"✓ Imports successful\")\n",
        "print(f\"✓ Project root: {project_root}\")\n",
        "print(\"=\"*60)\n"
      ]
    },
    {
      "cell_type": "markdown",
      "metadata": {},
      "source": [
        "## Step 1: Check Current Pipeline State\n"
      ]
    },
    {
      "cell_type": "code",
      "execution_count": null,
      "metadata": {
        "vscode": {
          "languageId": "plaintext"
        }
      },
      "outputs": [],
      "source": [
        "# Check current pipeline state before running the flow\n",
        "manager = PipelineStateManager()\n",
        "states = manager._read_all_states()\n",
        "\n",
        "print(f\"Current pipeline states: {len(states)}\")\n",
        "print(\"Recent test states:\")\n",
        "for i, state in enumerate(states[-5:]):  # Show last 5 states\n",
        "    if state.get('source_url', '').startswith('https://example.com/test/'):\n",
        "        print(f\"  {i+1}. ID: {state.get('id', 'N/A')[:8]}... | URL: {state.get('source_url', 'N/A')}\")\n",
        "print(\"=\"*60)\n"
      ]
    },
    {
      "cell_type": "markdown",
      "metadata": {},
      "source": [
        "## Step 2: Run Scrape Flow\n"
      ]
    },
    {
      "cell_type": "code",
      "execution_count": null,
      "metadata": {
        "vscode": {
          "languageId": "plaintext"
        }
      },
      "outputs": [],
      "source": [
        "# Run the scrape flow\n",
        "print(\"🚀 Running scrape_flow...\")\n",
        "print(\"=\"*60)\n",
        "\n",
        "try:\n",
        "    scrape_result = scrape_flow(\n",
        "        speaker=\"donald_trump\",\n",
        "        start_date=\"2025-01-01\", \n",
        "        end_date=\"2025-12-31\"\n",
        "    )\n",
        "    print(f\"✓ Scrape flow completed: {scrape_result}\")\n",
        "except Exception as e:\n",
        "    print(f\"✗ Error running scrape flow: {e}\")\n",
        "    import traceback\n",
        "    traceback.print_exc()\n",
        "\n",
        "print(\"=\"*60)\n"
      ]
    },
    {
      "cell_type": "markdown",
      "metadata": {},
      "source": [
        "## Step 3: Check Results\n"
      ]
    },
    {
      "cell_type": "code",
      "execution_count": null,
      "metadata": {
        "vscode": {
          "languageId": "plaintext"
        }
      },
      "outputs": [],
      "source": [
        "# Check pipeline state after running the flow\n",
        "manager = PipelineStateManager()\n",
        "states_after = manager._read_all_states()\n",
        "\n",
        "print(f\"Pipeline states after: {len(states_after)}\")\n",
        "print(f\"New states created: {len(states_after) - len(states)}\")\n",
        "\n",
        "# Show new test states\n",
        "print(\"\\nNew test states:\")\n",
        "new_states = states_after[len(states):]\n",
        "for i, state in enumerate(new_states):\n",
        "    if state.get('source_url', '').startswith('https://example.com/test/'):\n",
        "        print(f\"  {i+1}. ID: {state.get('id', 'N/A')[:8]}... | URL: {state.get('source_url', 'N/A')}\")\n",
        "\n",
        "# Check for duplicates\n",
        "test_urls = [s.get('source_url', '') for s in states_after if s.get('source_url', '').startswith('https://example.com/test/')]\n",
        "unique_urls = set(test_urls)\n",
        "duplicates = len(test_urls) - len(unique_urls)\n",
        "\n",
        "print(f\"\\n📊 Results:\")\n",
        "print(f\"  • Total test URLs: {len(test_urls)}\")\n",
        "print(f\"  • Unique test URLs: {len(unique_urls)}\")\n",
        "print(f\"  • Duplicates: {duplicates}\")\n",
        "\n",
        "if duplicates == 0:\n",
        "    print(\"✅ SUCCESS: No duplicate pipeline states created!\")\n",
        "else:\n",
        "    print(\"❌ ISSUE: Duplicate pipeline states detected\")\n",
        "\n",
        "print(\"=\"*60)\n"
      ]
    },
    {
      "cell_type": "markdown",
      "metadata": {},
      "source": [
        "## Summary\n",
        "\n",
        "The fix involved:\n",
        "\n",
        "1. **Renamed** `tests/mock_scrape_flow.py` → `tests/test_transcript_generator.py`\n",
        "2. **Removed** all Prefect flow/task decorators from the generator\n",
        "3. **Updated** `flows/scrape_flow.py` to import the utility function\n",
        "4. **Added** a Prefect task wrapper in `scrape_flow.py` only\n",
        "\n",
        "Now only `scrape_flow.py` handles Prefect flow orchestration, while `test_transcript_generator.py` is just a utility for creating test data.\n"
      ]
    },
    {
      "cell_type": "markdown",
      "metadata": {},
      "source": [
        "## Step 4: Test the Fix\n",
        "\n",
        "Let's run the flow again to verify that duplicates are eliminated.\n"
      ]
    },
    {
      "cell_type": "code",
      "execution_count": null,
      "metadata": {
        "vscode": {
          "languageId": "plaintext"
        }
      },
      "outputs": [],
      "source": [
        "# Run the flow again to test the fix\n",
        "print(\"🔧 Testing the duplicate fix...\")\n",
        "print(\"=\"*60)\n",
        "\n",
        "# Check states before\n",
        "states_before = manager._read_all_states()\n",
        "print(f\"Pipeline states before: {len(states_before)}\")\n",
        "\n",
        "try:\n",
        "    scrape_result = scrape_flow(\n",
        "        speaker=\"donald_trump\",\n",
        "        start_date=\"2025-01-01\", \n",
        "        end_date=\"2025-12-31\"\n",
        "    )\n",
        "    print(f\"✓ Scrape flow completed: {scrape_result}\")\n",
        "except Exception as e:\n",
        "    print(f\"✗ Error running scrape flow: {e}\")\n",
        "    import traceback\n",
        "    traceback.print_exc()\n",
        "\n",
        "# Check states after\n",
        "states_after = manager._read_all_states()\n",
        "new_states = len(states_after) - len(states_before)\n",
        "\n",
        "print(f\"\\n📊 Results:\")\n",
        "print(f\"  • States before: {len(states_before)}\")\n",
        "print(f\"  • States after: {len(states_after)}\")\n",
        "print(f\"  • New states created: {new_states}\")\n",
        "\n",
        "if new_states == 3:\n",
        "    print(\"✅ SUCCESS: Exactly 3 new pipeline states created (no duplicates)!\")\n",
        "else:\n",
        "    print(f\"❌ ISSUE: Expected 3 new states, got {new_states}\")\n",
        "\n",
        "print(\"=\"*60)\n"
      ]
    },
    {
      "cell_type": "markdown",
      "metadata": {},
      "source": [
        "\n"
      ]
    }
  ],
  "metadata": {
    "language_info": {
      "name": "python"
    }
  },
  "nbformat": 4,
  "nbformat_minor": 2
}
