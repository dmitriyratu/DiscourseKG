{
  "cells": [
    {
      "cell_type": "markdown",
      "metadata": {},
      "source": [
        "# Test Prefect-Compliant Structure\n",
        "\n",
        "Testing the new structure following Prefect's official best practices:\n",
        "- `flows/` - All Prefect flows (flat structure)\n",
        "- `tasks/` - All Prefect tasks and utilities\n",
        "- `src/` - Business logic (domain-driven)\n"
      ]
    },
    {
      "cell_type": "code",
      "execution_count": null,
      "metadata": {},
      "outputs": [],
      "source": [
        "import sys\n",
        "sys.path.append('..')\n",
        "\n",
        "# Test flows imports (flat structure)\n",
        "from flows.scrape_flow import scrape_flow\n",
        "from flows.preprocessing_flow import preprocessing_flow\n",
        "from flows.processing_flow import processing_flow\n",
        "\n",
        "# Test tasks imports\n",
        "from tasks.data_loaders import RawDataLoader, SummaryDataLoader\n",
        "from tasks.stage_processors import summarize_item, categorize_item\n",
        "from tasks.orchestration import get_items, process_item\n",
        "\n",
        "print(\"✓ All imports successful with Prefect-compliant structure!\")\n",
        "print(\"=\" * 60)\n"
      ]
    },
    {
      "cell_type": "markdown",
      "metadata": {},
      "source": [
        "## New Prefect-Compliant Structure\n",
        "\n",
        "```\n",
        "project/\n",
        "├── flows/                    # All Prefect flows (flat)\n",
        "│   ├── scrape_flow.py\n",
        "│   ├── preprocessing_flow.py\n",
        "│   └── processing_flow.py\n",
        "├── tasks/                    # All Prefect tasks & utilities\n",
        "│   ├── data_loaders.py\n",
        "│   ├── stage_processors.py\n",
        "│   └── orchestration.py\n",
        "├── src/                      # Business logic (domain-driven)\n",
        "│   ├── scraping/\n",
        "│   ├── preprocessing/\n",
        "│   └── processing/\n",
        "└── pipeline/                 # Pipeline infrastructure\n",
        "```\n",
        "\n",
        "### ✅ **Follows Prefect Best Practices:**\n",
        "- **Flat flows structure** - Easy to find and import flows\n",
        "- **Separate tasks directory** - Clear separation of concerns\n",
        "- **Domain-driven src/** - Business logic organized by domain\n",
        "- **Clean imports** - `from flows.scrape_flow import scrape_flow`\n",
        "- **Scalable** - Easy to add new flows and tasks\n"
      ]
    }
  ],
  "metadata": {
    "language_info": {
      "name": "python"
    }
  },
  "nbformat": 4,
  "nbformat_minor": 2
}
