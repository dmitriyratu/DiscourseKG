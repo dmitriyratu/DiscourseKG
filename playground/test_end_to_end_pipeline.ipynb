{
  "cells": [
    {
      "cell_type": "markdown",
      "metadata": {},
      "source": [
        "# Individual Flow Testing\n",
        "\n",
        "Test each Prefect flow individually to see how they work.\n",
        "\n",
        "**Prerequisites:** Prefect server running at http://127.0.0.1:4200\n"
      ]
    },
    {
      "cell_type": "markdown",
      "metadata": {},
      "source": [
        "## Step 1: Test Scrape Flow\n"
      ]
    },
    {
      "cell_type": "code",
      "execution_count": 1,
      "metadata": {},
      "outputs": [
        {
          "name": "stdout",
          "output_type": "stream",
          "text": [
            "============================================================\n",
            "TESTING: Scrape Flow\n",
            "============================================================\n"
          ]
        },
        {
          "data": {
            "text/html": [
              "<pre style=\"white-space:pre;overflow-x:auto;line-height:normal;font-family:Menlo,'DejaVu Sans Mono',consolas,'Courier New',monospace\">00:41:50.353 | <span style=\"color: #008080; text-decoration-color: #008080\">INFO</span>    | Flow run<span style=\"color: #800080; text-decoration-color: #800080\"> 'shiny-parrot'</span> - Beginning flow run<span style=\"color: #800080; text-decoration-color: #800080\"> 'shiny-parrot'</span> for flow<span style=\"color: #800080; text-decoration-color: #800080; font-weight: bold\"> 'scrape-flow'</span>\n",
              "</pre>\n"
            ],
            "text/plain": [
              "00:41:50.353 | \u001b[36mINFO\u001b[0m    | Flow run\u001b[35m 'shiny-parrot'\u001b[0m - Beginning flow run\u001b[35m 'shiny-parrot'\u001b[0m for flow\u001b[1;35m 'scrape-flow'\u001b[0m\n"
            ]
          },
          "metadata": {},
          "output_type": "display_data"
        },
        {
          "data": {
            "text/html": [
              "<pre style=\"white-space:pre;overflow-x:auto;line-height:normal;font-family:Menlo,'DejaVu Sans Mono',consolas,'Courier New',monospace\">00:41:50.362 | <span style=\"color: #008080; text-decoration-color: #008080\">INFO</span>    | Flow run<span style=\"color: #800080; text-decoration-color: #800080\"> 'shiny-parrot'</span> - View at <span style=\"color: #0000ff; text-decoration-color: #0000ff\">http://127.0.0.1:4200/runs/flow-run/e601e7e5-7217-4e59-bb59-e64b2590125f</span>\n",
              "</pre>\n"
            ],
            "text/plain": [
              "00:41:50.362 | \u001b[36mINFO\u001b[0m    | Flow run\u001b[35m 'shiny-parrot'\u001b[0m - View at \u001b[94mhttp://127.0.0.1:4200/runs/flow-run/e601e7e5-7217-4e59-bb59-e64b2590125f\u001b[0m\n"
            ]
          },
          "metadata": {},
          "output_type": "display_data"
        },
        {
          "name": "stdout",
          "output_type": "stream",
          "text": [
            "2025-10-14 00:41:50,363 - scrape_flow - INFO - Starting scrape for donald_trump from 2025-01-01 to 2025-12-31\n",
            "2025-10-14 00:41:50,365 - scrape_flow - INFO - Using mock scraper (agents not yet implemented)\n",
            "2025-10-14 00:41:50,376 - scrape_flow - INFO - Mock scrape complete for donald_trump - 3 items processed\n"
          ]
        },
        {
          "data": {
            "text/html": [
              "<pre style=\"white-space:pre;overflow-x:auto;line-height:normal;font-family:Menlo,'DejaVu Sans Mono',consolas,'Courier New',monospace\">00:41:50.377 | <span style=\"color: #d7d700; text-decoration-color: #d7d700\">WARNING</span> | Flow run<span style=\"color: #800080; text-decoration-color: #800080\"> 'shiny-parrot'</span> - A future was garbage collected before it resolved. Please call `.wait()` or `.result()` on futures to ensure they resolve.\n",
              "See <span style=\"color: #0000ff; text-decoration-color: #0000ff\">https://docs.prefect.io/latest/develop/task-runners</span> for more details.\n",
              "</pre>\n"
            ],
            "text/plain": [
              "00:41:50.377 | \u001b[38;5;184mWARNING\u001b[0m | Flow run\u001b[35m 'shiny-parrot'\u001b[0m - A future was garbage collected before it resolved. Please call `.wait()` or `.result()` on futures to ensure they resolve.\n",
              "See \u001b[94mhttps://docs.prefect.io/latest/develop/task-runners\u001b[0m for more details.\n"
            ]
          },
          "metadata": {},
          "output_type": "display_data"
        },
        {
          "data": {
            "text/html": [
              "<pre style=\"white-space:pre;overflow-x:auto;line-height:normal;font-family:Menlo,'DejaVu Sans Mono',consolas,'Courier New',monospace\">00:41:50.380 | <span style=\"color: #d7d700; text-decoration-color: #d7d700\">WARNING</span> | Flow run<span style=\"color: #800080; text-decoration-color: #800080\"> 'shiny-parrot'</span> - A future was garbage collected before it resolved. Please call `.wait()` or `.result()` on futures to ensure they resolve.\n",
              "See <span style=\"color: #0000ff; text-decoration-color: #0000ff\">https://docs.prefect.io/latest/develop/task-runners</span> for more details.\n",
              "</pre>\n"
            ],
            "text/plain": [
              "00:41:50.380 | \u001b[38;5;184mWARNING\u001b[0m | Flow run\u001b[35m 'shiny-parrot'\u001b[0m - A future was garbage collected before it resolved. Please call `.wait()` or `.result()` on futures to ensure they resolve.\n",
              "See \u001b[94mhttps://docs.prefect.io/latest/develop/task-runners\u001b[0m for more details.\n"
            ]
          },
          "metadata": {},
          "output_type": "display_data"
        },
        {
          "data": {
            "text/html": [
              "<pre style=\"white-space:pre;overflow-x:auto;line-height:normal;font-family:Menlo,'DejaVu Sans Mono',consolas,'Courier New',monospace\">00:41:50.382 | <span style=\"color: #d7d700; text-decoration-color: #d7d700\">WARNING</span> | Flow run<span style=\"color: #800080; text-decoration-color: #800080\"> 'shiny-parrot'</span> - A future was garbage collected before it resolved. Please call `.wait()` or `.result()` on futures to ensure they resolve.\n",
              "See <span style=\"color: #0000ff; text-decoration-color: #0000ff\">https://docs.prefect.io/latest/develop/task-runners</span> for more details.\n",
              "</pre>\n"
            ],
            "text/plain": [
              "00:41:50.382 | \u001b[38;5;184mWARNING\u001b[0m | Flow run\u001b[35m 'shiny-parrot'\u001b[0m - A future was garbage collected before it resolved. Please call `.wait()` or `.result()` on futures to ensure they resolve.\n",
              "See \u001b[94mhttps://docs.prefect.io/latest/develop/task-runners\u001b[0m for more details.\n"
            ]
          },
          "metadata": {},
          "output_type": "display_data"
        },
        {
          "name": "stdout",
          "output_type": "stream",
          "text": [
            "2025-10-14 00:41:51,392 - scrape_flow - INFO - Mock scraping URL: https://example.com/test/speech_1_20251014_004150\n",
            "2025-10-14 00:41:51,396 - scrape_flow - INFO - Mock scraping URL: https://example.com/test/speech_2_20251014_004150\n",
            "2025-10-14 00:41:51,399 - scrape_flow - INFO - Mock scraping URL: https://example.com/test/speech_0_20251014_004150\n",
            "2025-10-14 00:41:51,401 - test_transcript_generator - INFO - Saved test transcript to data\\raw\\test\\interview\\2025\\10\\13\\interview_test_1_20251014_004151_396.json\n",
            "2025-10-14 00:41:51,403 - pipeline_state - INFO - Created pipeline state for data point: e4addc3d-2aab-4106-ae55-8d9ab6bd92b5\n",
            "2025-10-14 00:41:51,403 - test_transcript_generator - INFO - Saved test transcript to data\\raw\\test\\debate\\2025\\10\\12\\debate_test_2_20251014_004151_400.json\n",
            "2025-10-14 00:41:51,404 - test_transcript_generator - INFO - Saved test transcript to data\\raw\\test\\speech\\2025\\10\\14\\speech_test_0_20251014_004151_402.json\n",
            "2025-10-14 00:41:51,403 - pipeline_state - INFO - Created pipeline state for data point: e4addc3d-2aab-4106-ae55-8d9ab6bd92b5\n",
            "2025-10-14 00:41:51,406 - pipeline_state - INFO - Created pipeline state for data point: 7e65d800-32d5-4da6-9888-6a258c84160a\n",
            "2025-10-14 00:41:51,406 - pipeline_state - INFO - Created pipeline state for data point: 7e65d800-32d5-4da6-9888-6a258c84160a\n",
            "2025-10-14 00:41:51,403 - pipeline_state - INFO - Created pipeline state for data point: e4addc3d-2aab-4106-ae55-8d9ab6bd92b5\n",
            "2025-10-14 00:41:51,406 - pipeline_state - INFO - Created pipeline state for data point: 7e65d800-32d5-4da6-9888-6a258c84160a\n",
            "2025-10-14 00:41:51,407 - test_transcript_generator - INFO - Created pipeline state for test item 1 (ID: e4addc3d-2aab-4106-ae55-8d9ab6bd92b5)\n",
            "2025-10-14 00:41:51,408 - pipeline_state - INFO - Created pipeline state for data point: 2a124475-8068-42e7-80d7-c182ae1fc420\n",
            "2025-10-14 00:41:51,408 - test_transcript_generator - INFO - Created pipeline state for test item 2 (ID: 7e65d800-32d5-4da6-9888-6a258c84160a)\n",
            "2025-10-14 00:41:51,408 - pipeline_state - INFO - Created pipeline state for data point: 2a124475-8068-42e7-80d7-c182ae1fc420\n",
            "2025-10-14 00:41:51,408 - scrape_flow - INFO - Scraped and ingested: https://example.com/test/speech_1_20251014_004150 -> e4addc3d-2aab-4106-ae55-8d9ab6bd92b5\n",
            "2025-10-14 00:41:51,408 - pipeline_state - INFO - Created pipeline state for data point: 2a124475-8068-42e7-80d7-c182ae1fc420\n",
            "2025-10-14 00:41:51,410 - scrape_flow - INFO - Scraped and ingested: https://example.com/test/speech_2_20251014_004150 -> 7e65d800-32d5-4da6-9888-6a258c84160a\n",
            "2025-10-14 00:41:51,412 - test_transcript_generator - INFO - Created pipeline state for test item 0 (ID: 2a124475-8068-42e7-80d7-c182ae1fc420)\n",
            "2025-10-14 00:41:51,413 - scrape_flow - INFO - Scraped and ingested: https://example.com/test/speech_0_20251014_004150 -> 2a124475-8068-42e7-80d7-c182ae1fc420\n"
          ]
        },
        {
          "data": {
            "text/html": [
              "<pre style=\"white-space:pre;overflow-x:auto;line-height:normal;font-family:Menlo,'DejaVu Sans Mono',consolas,'Courier New',monospace\">00:41:51.415 | <span style=\"color: #008080; text-decoration-color: #008080\">INFO</span>    | Task run 'scrape_and_ingest-da6' - Finished in state <span style=\"color: #008000; text-decoration-color: #008000\">Completed</span>()\n",
              "</pre>\n"
            ],
            "text/plain": [
              "00:41:51.415 | \u001b[36mINFO\u001b[0m    | Task run 'scrape_and_ingest-da6' - Finished in state \u001b[32mCompleted\u001b[0m()\n"
            ]
          },
          "metadata": {},
          "output_type": "display_data"
        },
        {
          "data": {
            "text/html": [
              "<pre style=\"white-space:pre;overflow-x:auto;line-height:normal;font-family:Menlo,'DejaVu Sans Mono',consolas,'Courier New',monospace\">00:41:51.419 | <span style=\"color: #008080; text-decoration-color: #008080\">INFO</span>    | Task run 'scrape_and_ingest-faf' - Finished in state <span style=\"color: #008000; text-decoration-color: #008000\">Completed</span>()\n",
              "</pre>\n"
            ],
            "text/plain": [
              "00:41:51.419 | \u001b[36mINFO\u001b[0m    | Task run 'scrape_and_ingest-faf' - Finished in state \u001b[32mCompleted\u001b[0m()\n"
            ]
          },
          "metadata": {},
          "output_type": "display_data"
        },
        {
          "data": {
            "text/html": [
              "<pre style=\"white-space:pre;overflow-x:auto;line-height:normal;font-family:Menlo,'DejaVu Sans Mono',consolas,'Courier New',monospace\">00:41:51.425 | <span style=\"color: #008080; text-decoration-color: #008080\">INFO</span>    | Task run 'scrape_and_ingest-cf1' - Finished in state <span style=\"color: #008000; text-decoration-color: #008000\">Completed</span>()\n",
              "</pre>\n"
            ],
            "text/plain": [
              "00:41:51.425 | \u001b[36mINFO\u001b[0m    | Task run 'scrape_and_ingest-cf1' - Finished in state \u001b[32mCompleted\u001b[0m()\n"
            ]
          },
          "metadata": {},
          "output_type": "display_data"
        },
        {
          "data": {
            "text/html": [
              "<pre style=\"white-space:pre;overflow-x:auto;line-height:normal;font-family:Menlo,'DejaVu Sans Mono',consolas,'Courier New',monospace\">00:41:51.445 | <span style=\"color: #008080; text-decoration-color: #008080\">INFO</span>    | Flow run<span style=\"color: #800080; text-decoration-color: #800080\"> 'shiny-parrot'</span> - Finished in state <span style=\"color: #008000; text-decoration-color: #008000\">Completed</span>()\n",
              "</pre>\n"
            ],
            "text/plain": [
              "00:41:51.445 | \u001b[36mINFO\u001b[0m    | Flow run\u001b[35m 'shiny-parrot'\u001b[0m - Finished in state \u001b[32mCompleted\u001b[0m()\n"
            ]
          },
          "metadata": {},
          "output_type": "display_data"
        },
        {
          "name": "stdout",
          "output_type": "stream",
          "text": [
            "✓ Scrape result: {'status': 'success', 'mode': 'mock', 'items': 3}\n",
            "Check Prefect UI to see the flow execution!\n"
          ]
        }
      ],
      "source": [
        "from flows.scrape_flow import scrape_flow\n",
        "\n",
        "# Test scrape flow\n",
        "print(\"=\"*60)\n",
        "print(\"TESTING: Scrape Flow\")\n",
        "print(\"=\"*60)\n",
        "\n",
        "scrape_result = scrape_flow(\n",
        "    speaker=\"donald_trump\",\n",
        "    start_date=\"2025-01-01\", \n",
        "    end_date=\"2025-12-31\"\n",
        ")\n",
        "\n",
        "print(f\"✓ Scrape result: {scrape_result}\")\n",
        "print(\"Check Prefect UI to see the flow execution!\")\n"
      ]
    },
    {
      "cell_type": "markdown",
      "metadata": {},
      "source": [
        "## Step 2: Test Preprocessing Flow\n"
      ]
    },
    {
      "cell_type": "code",
      "execution_count": null,
      "metadata": {},
      "outputs": [],
      "source": [
        "from flows.preprocessing_flow import preprocessing_flow\n",
        "\n",
        "# Test preprocessing flow\n",
        "print(\"=\"*60)\n",
        "print(\"TESTING: Preprocessing Flow\")\n",
        "print(\"=\"*60)\n",
        "\n",
        "preprocessing_flow()\n",
        "print(\"✓ Preprocessing flow submitted\")\n",
        "print(\"Check Prefect UI to see the flow execution!\")\n"
      ]
    },
    {
      "cell_type": "markdown",
      "metadata": {},
      "source": [
        "## Step 3: Test Processing Flow\n"
      ]
    },
    {
      "cell_type": "code",
      "execution_count": null,
      "metadata": {},
      "outputs": [],
      "source": [
        "from flows.processing_flow import processing_flow\n",
        "\n",
        "# Test processing flow\n",
        "print(\"=\"*60)\n",
        "print(\"TESTING: Processing Flow\")\n",
        "print(\"=\"*60)\n",
        "\n",
        "processing_flow()\n",
        "print(\"✓ Processing flow submitted\")\n",
        "print(\"Check Prefect UI to see the flow execution!\")\n"
      ]
    }
  ],
  "metadata": {
    "kernelspec": {
      "display_name": "Python 3.12.6",
      "language": "python",
      "name": "python3.12.6"
    },
    "language_info": {
      "codemirror_mode": {
        "name": "ipython",
        "version": 3
      },
      "file_extension": ".py",
      "mimetype": "text/x-python",
      "name": "python",
      "nbconvert_exporter": "python",
      "pygments_lexer": "ipython3",
      "version": "3.12.6"
    }
  },
  "nbformat": 4,
  "nbformat_minor": 2
}
