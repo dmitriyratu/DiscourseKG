{
  "cells": [
    {
      "cell_type": "markdown",
      "metadata": {},
      "source": [
        "# Test Reorganized Structure\n",
        "\n",
        "Testing the new flows directory organization:\n",
        "- `flows/orchestration/` - Prefect flows\n",
        "- `flows/processing/` - Processing utilities\n"
      ]
    },
    {
      "cell_type": "code",
      "execution_count": null,
      "metadata": {},
      "outputs": [],
      "source": [
        "import sys\n",
        "sys.path.append('..')\n",
        "\n",
        "# Test orchestration imports\n",
        "from flows.orchestration.scrape_flow import scrape_flow\n",
        "from flows.orchestration.preprocessing_flow import preprocessing_flow\n",
        "from flows.orchestration.processing_flow import processing_flow\n",
        "\n",
        "# Test processing imports\n",
        "from flows.processing.data_loaders import RawDataLoader, SummaryDataLoader\n",
        "from flows.processing.stage_processors import summarize_item, categorize_item\n",
        "from flows.processing.tasks import get_items, process_item\n",
        "\n",
        "print(\"✓ All imports successful with new structure!\")\n",
        "print(\"=\" * 60)\n"
      ]
    },
    {
      "cell_type": "markdown",
      "metadata": {},
      "source": [
        "## New Directory Structure\n",
        "\n",
        "```\n",
        "flows/\n",
        "├── orchestration/          # Prefect flows (orchestration layer)\n",
        "│   ├── scrape_flow.py\n",
        "│   ├── preprocessing_flow.py\n",
        "│   └── processing_flow.py\n",
        "└── processing/             # Processing utilities (business logic)\n",
        "    ├── data_loaders.py\n",
        "    ├── stage_processors.py\n",
        "    └── tasks.py\n",
        "```\n",
        "\n",
        "### ✅ **Benefits:**\n",
        "- **Clear separation** between orchestration and processing\n",
        "- **Logical grouping** of related functionality\n",
        "- **Easy to navigate** and understand\n",
        "- **Maintainable** structure for future growth\n"
      ]
    }
  ],
  "metadata": {
    "language_info": {
      "name": "python"
    }
  },
  "nbformat": 4,
  "nbformat_minor": 2
}
